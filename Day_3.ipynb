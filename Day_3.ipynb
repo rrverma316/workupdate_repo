{
 "cells": [
  {
   "cell_type": "code",
   "execution_count": 1,
   "id": "e575e4b9",
   "metadata": {},
   "outputs": [
    {
     "name": "stdout",
     "output_type": "stream",
     "text": [
      "Enter E-Mail Idrrverma316@gmail.com\n"
     ]
    }
   ],
   "source": [
    "emailid = input('Enter E-Mail Id')"
   ]
  },
  {
   "cell_type": "code",
   "execution_count": 3,
   "id": "9085c587",
   "metadata": {},
   "outputs": [],
   "source": [
    "username = emailid[:emailid.index('@')]"
   ]
  },
  {
   "cell_type": "code",
   "execution_count": 4,
   "id": "f2bd914c",
   "metadata": {},
   "outputs": [],
   "source": [
    "domain = emailid[emailid.index('@')+1:]"
   ]
  },
  {
   "cell_type": "code",
   "execution_count": 6,
   "id": "d7569a68",
   "metadata": {},
   "outputs": [
    {
     "name": "stdout",
     "output_type": "stream",
     "text": [
      "UserName: rrverma316 \n",
      "Domain: gmail.com\n"
     ]
    }
   ],
   "source": [
    "print(f'UserName: {username} \\nDomain: {domain}')"
   ]
  },
  {
   "cell_type": "code",
   "execution_count": 15,
   "id": "dc15ccde",
   "metadata": {},
   "outputs": [],
   "source": [
    "class people:\n",
    "    def __init__(self,name,age):\n",
    "        self.age=age\n",
    "        self.name=name\n",
    "    def __str__(self):\n",
    "        return f'{self.age} of {self.name}'\n",
    "\n",
    "student = people('rahul','20')"
   ]
  },
  {
   "cell_type": "code",
   "execution_count": 16,
   "id": "0f57928e",
   "metadata": {},
   "outputs": [
    {
     "data": {
      "text/plain": [
       "<__main__.people at 0x21116cd5bb0>"
      ]
     },
     "execution_count": 16,
     "metadata": {},
     "output_type": "execute_result"
    }
   ],
   "source": [
    "student"
   ]
  },
  {
   "cell_type": "code",
   "execution_count": 17,
   "id": "81d29550",
   "metadata": {},
   "outputs": [
    {
     "name": "stdout",
     "output_type": "stream",
     "text": [
      "20 of rahul\n"
     ]
    }
   ],
   "source": [
    "print(student)"
   ]
  },
  {
   "cell_type": "markdown",
   "id": "42e1ffb3",
   "metadata": {},
   "source": [
    "# JSON"
   ]
  },
  {
   "cell_type": "code",
   "execution_count": 38,
   "id": "00c0d586",
   "metadata": {},
   "outputs": [],
   "source": [
    "import json"
   ]
  },
  {
   "cell_type": "code",
   "execution_count": 51,
   "id": "9fd188a6",
   "metadata": {},
   "outputs": [],
   "source": [
    "person ={\"name\":\"Rahul\",\"age\":20,\"city\":\"Ganganagar\",\"hasChildern\":False,\"titles\":[\"Engineer\",\"Programmer\",\"Developer\"]}\n",
    "\n",
    "personJson = json.dumps(person,indent=4, sort_keys=True)"
   ]
  },
  {
   "cell_type": "code",
   "execution_count": 52,
   "id": "a941728b",
   "metadata": {},
   "outputs": [
    {
     "name": "stdout",
     "output_type": "stream",
     "text": [
      "{\n",
      "    \"age\": 20,\n",
      "    \"city\": \"Ganganagar\",\n",
      "    \"hasChildern\": false,\n",
      "    \"name\": \"Rahul\",\n",
      "    \"titles\": [\n",
      "        \"Engineer\",\n",
      "        \"Programmer\",\n",
      "        \"Developer\"\n",
      "    ]\n",
      "}\n"
     ]
    }
   ],
   "source": [
    "print(personJson)"
   ]
  },
  {
   "cell_type": "code",
   "execution_count": 53,
   "id": "f0743e1e",
   "metadata": {},
   "outputs": [],
   "source": [
    "# Put data into file\n",
    "\n",
    "with open('person.json','w') as file:\n",
    "    json.dump(person,file, indent=4)"
   ]
  },
  {
   "cell_type": "markdown",
   "id": "f842c24c",
   "metadata": {},
   "source": [
    "# Python to Json  "
   ]
  },
  {
   "cell_type": "code",
   "execution_count": 48,
   "id": "a4c85dee",
   "metadata": {},
   "outputs": [
    {
     "name": "stdout",
     "output_type": "stream",
     "text": [
      "{'age': 20, 'city': 'Ganganagar', 'hasChildern': False, 'name': 'Rahul', 'titles': ['Engineer', 'Programmer', 'Developer']}\n"
     ]
    }
   ],
   "source": [
    "person = json.loads(personJson)\n",
    "print(person)"
   ]
  },
  {
   "cell_type": "code",
   "execution_count": 55,
   "id": "94a6dc6e",
   "metadata": {},
   "outputs": [
    {
     "name": "stdout",
     "output_type": "stream",
     "text": [
      "{'name': 'Rahul', 'age': 20, 'city': 'Ganganagar', 'hasChildern': False, 'titles': ['Engineer', 'Programmer', 'Developer']}\n"
     ]
    }
   ],
   "source": [
    "with open('person.json','r') as file:\n",
    "    person=json.load(file)\n",
    "    print(person)"
   ]
  },
  {
   "cell_type": "code",
   "execution_count": 61,
   "id": "21c607ba",
   "metadata": {},
   "outputs": [
    {
     "name": "stdout",
     "output_type": "stream",
     "text": [
      "{\"name\": \"Sumit\", \"age\": 19, \"User\": true}\n"
     ]
    }
   ],
   "source": [
    "# Convert Custom objects into JSON\n",
    "\n",
    "class User:\n",
    "    def __init__(self,name,age):\n",
    "        self.name=name\n",
    "        self.age=age\n",
    "        \n",
    "\n",
    "\n",
    "NewUser = User('Sumit',19)\n",
    "\n",
    "def encode_user(o):\n",
    "    if isinstance(o , User):\n",
    "        return {'name':o.name,'age':o.age,o.__class__.__name__:True}\n",
    "    else:\n",
    "        raise TypeError('Type Error: User is not JSON serializable')\n",
    "UserJson = json.dumps(NewUser, default=encode_user)\n",
    "print(UserJson)"
   ]
  },
  {
   "cell_type": "code",
   "execution_count": 64,
   "id": "3932ae55",
   "metadata": {},
   "outputs": [
    {
     "name": "stdout",
     "output_type": "stream",
     "text": [
      "{\"name\": \"Sumit\", \"age\": 19, \"User\": true}\n"
     ]
    }
   ],
   "source": [
    "from json import JSONEncoder\n",
    "\n",
    "\n",
    "class UserEncoder(JSONEncoder):\n",
    "    def default(self,o):\n",
    "        if isinstance(o,User):\n",
    "            return {'name':o.name,'age':o.age,o.__class__.__name__:True}\n",
    "        return JSONEncoder.default(self,o)\n",
    "\n",
    "    \n",
    "    \n",
    "    \n",
    "UserJson = UserEncoder().encode(NewUser)    \n",
    "\n",
    "print(UserJson)"
   ]
  },
  {
   "cell_type": "code",
   "execution_count": 65,
   "id": "b49b7a93",
   "metadata": {},
   "outputs": [],
   "source": [
    "\n",
    "user = json.loads(UserJson)"
   ]
  },
  {
   "cell_type": "code",
   "execution_count": 66,
   "id": "52511f49",
   "metadata": {},
   "outputs": [
    {
     "data": {
      "text/plain": [
       "{'name': 'Sumit', 'age': 19, 'User': True}"
      ]
     },
     "execution_count": 66,
     "metadata": {},
     "output_type": "execute_result"
    }
   ],
   "source": [
    "user"
   ]
  },
  {
   "cell_type": "code",
   "execution_count": 67,
   "id": "134c7c8c",
   "metadata": {},
   "outputs": [
    {
     "ename": "AttributeError",
     "evalue": "'dict' object has no attribute 'name'",
     "output_type": "error",
     "traceback": [
      "\u001b[1;31m---------------------------------------------------------------------------\u001b[0m",
      "\u001b[1;31mAttributeError\u001b[0m                            Traceback (most recent call last)",
      "\u001b[1;32m~\\AppData\\Local\\Temp\\ipykernel_1612\\4130716652.py\u001b[0m in \u001b[0;36m<module>\u001b[1;34m\u001b[0m\n\u001b[1;32m----> 1\u001b[1;33m \u001b[0muser\u001b[0m\u001b[1;33m.\u001b[0m\u001b[0mname\u001b[0m\u001b[1;33m\u001b[0m\u001b[1;33m\u001b[0m\u001b[0m\n\u001b[0m",
      "\u001b[1;31mAttributeError\u001b[0m: 'dict' object has no attribute 'name'"
     ]
    }
   ],
   "source": [
    "user.name"
   ]
  },
  {
   "cell_type": "code",
   "execution_count": 68,
   "id": "156dc634",
   "metadata": {},
   "outputs": [
    {
     "name": "stdout",
     "output_type": "stream",
     "text": [
      "<__main__.User object at 0x0000021116D9C700>\n"
     ]
    }
   ],
   "source": [
    "# JSON to Class Member\n",
    "\n",
    "def decode_user(dct):\n",
    "    if User.__name__ in dct:\n",
    "        return User(name= dct['name'], age=dct['age'])\n",
    "    return dct\n",
    "\n",
    "user = json.loads(UserJson, object_hook=decode_user)\n",
    "print(user)"
   ]
  },
  {
   "cell_type": "code",
   "execution_count": 69,
   "id": "349d6dd4",
   "metadata": {},
   "outputs": [
    {
     "data": {
      "text/plain": [
       "'Sumit'"
      ]
     },
     "execution_count": 69,
     "metadata": {},
     "output_type": "execute_result"
    }
   ],
   "source": [
    "user.name"
   ]
  },
  {
   "cell_type": "markdown",
   "id": "17a340f9",
   "metadata": {},
   "source": [
    "# Random "
   ]
  },
  {
   "cell_type": "code",
   "execution_count": 72,
   "id": "345a7cf3",
   "metadata": {},
   "outputs": [
    {
     "name": "stdout",
     "output_type": "stream",
     "text": [
      "0.006386104388510955\n"
     ]
    }
   ],
   "source": [
    "import random\n",
    "\n",
    "a= random.normalvariate(0,1)\n",
    "print(a)"
   ]
  },
  {
   "cell_type": "code",
   "execution_count": 95,
   "id": "5130b64f",
   "metadata": {},
   "outputs": [
    {
     "name": "stdout",
     "output_type": "stream",
     "text": [
      "7 \n",
      " 9 \n",
      " 2\n"
     ]
    }
   ],
   "source": [
    "import secrets\n",
    "\n",
    "a = secrets.randbelow(10)\n",
    "\n",
    "b= secrets.randbits(4)\n",
    "\n",
    "mylist =([1,2,3])\n",
    "c = secrets.choice(mylist)\n",
    "\n",
    "print(a,'\\n',b,'\\n',c)\n",
    "\n"
   ]
  },
  {
   "cell_type": "markdown",
   "id": "17da993c",
   "metadata": {},
   "source": [
    "# Story Generator"
   ]
  },
  {
   "cell_type": "code",
   "execution_count": 7,
   "id": "59ac723d",
   "metadata": {},
   "outputs": [
    {
     "name": "stdout",
     "output_type": "stream",
     "text": [
      "Yesterday, Mr. Sharma's turtle that lived in England, went to the seminar and wrote a book\n"
     ]
    }
   ],
   "source": [
    "import random\n",
    "\n",
    "when =['A few years ago', 'Yesterday', 'Last night', 'A long time ago','On 20th Jan']\n",
    "who = [' rabbit', ' elephant', ' mouse', ' turtle',' cat']\n",
    "name = ['Mr. Sharma', 'Mr. Singhs','Mr. Panday', 'Mr.Khan', 'Mr. Crish']\n",
    "residence = ['Barcelona','India', 'Germany', 'Venice', 'England']\n",
    "went = ['cinema', 'university','seminar', 'school', 'laundry']\n",
    "happened = ['made a lot of friends','Eats a burger', 'found a secret key', 'solved a mistery', 'wrote a book']\n",
    "print(random.choice(when) + ', '+random.choice(name)+'\\'s' + random.choice(who) + ' that lived in ' + random.choice(residence) + ', went to the ' + random.choice(went) + ' and ' + random.choice(happened))"
   ]
  },
  {
   "cell_type": "code",
   "execution_count": null,
   "id": "68c07028",
   "metadata": {},
   "outputs": [],
   "source": []
  }
 ],
 "metadata": {
  "kernelspec": {
   "display_name": "Python 3 (ipykernel)",
   "language": "python",
   "name": "python3"
  },
  "language_info": {
   "codemirror_mode": {
    "name": "ipython",
    "version": 3
   },
   "file_extension": ".py",
   "mimetype": "text/x-python",
   "name": "python",
   "nbconvert_exporter": "python",
   "pygments_lexer": "ipython3",
   "version": "3.9.13"
  }
 },
 "nbformat": 4,
 "nbformat_minor": 5
}
