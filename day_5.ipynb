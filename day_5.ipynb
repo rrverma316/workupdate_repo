{
 "cells": [
  {
   "cell_type": "code",
   "execution_count": 13,
   "id": "e9d2efe1",
   "metadata": {},
   "outputs": [
    {
     "name": "stdout",
     "output_type": "stream",
     "text": [
      "Enter Multiple Values 50 77 88\n"
     ]
    }
   ],
   "source": [
    "x = list(map(int,input('Enter Multiple Values ').split()))"
   ]
  },
  {
   "cell_type": "code",
   "execution_count": 14,
   "id": "57ee4804",
   "metadata": {},
   "outputs": [
    {
     "name": "stdout",
     "output_type": "stream",
     "text": [
      "[50, 77, 88]\n"
     ]
    }
   ],
   "source": [
    "print(list(x))"
   ]
  },
  {
   "cell_type": "code",
   "execution_count": 29,
   "id": "0208a5c5",
   "metadata": {},
   "outputs": [
    {
     "data": {
      "text/plain": [
       "[55, 44, 11]"
      ]
     },
     "execution_count": 29,
     "metadata": {},
     "output_type": "execute_result"
    }
   ],
   "source": [
    "x"
   ]
  },
  {
   "cell_type": "code",
   "execution_count": 30,
   "id": "9aea7b7f",
   "metadata": {},
   "outputs": [
    {
     "name": "stdout",
     "output_type": "stream",
     "text": [
      "[55, 44, 11]\n"
     ]
    }
   ],
   "source": [
    "print(list(x))"
   ]
  },
  {
   "cell_type": "code",
   "execution_count": 31,
   "id": "728ed75b",
   "metadata": {},
   "outputs": [
    {
     "data": {
      "text/plain": [
       "{11, 44, 55}"
      ]
     },
     "execution_count": 31,
     "metadata": {},
     "output_type": "execute_result"
    }
   ],
   "source": [
    "set(x)"
   ]
  },
  {
   "cell_type": "code",
   "execution_count": 40,
   "id": "186ab311",
   "metadata": {},
   "outputs": [
    {
     "name": "stdout",
     "output_type": "stream",
     "text": [
      "3>>>2>>>1>>>Start\n"
     ]
    }
   ],
   "source": [
    "import time\n",
    "count_seconds = 3\n",
    "for i in reversed(range(count_seconds + 1)):\n",
    "    if i > 0:\n",
    "        print(i, end='>>>',flush=True)\n",
    "        time.sleep(1)\n",
    "    else:\n",
    "        print('Start')"
   ]
  },
  {
   "cell_type": "code",
   "execution_count": 58,
   "id": "0e15c333",
   "metadata": {},
   "outputs": [
    {
     "data": {
      "text/plain": [
       "'Hello Geeks!!\\n'"
      ]
     },
     "execution_count": 58,
     "metadata": {},
     "output_type": "execute_result"
    }
   ],
   "source": [
    "import io\n",
    "\n",
    "# declare a dummy file\n",
    "dummy_file.py = io.StringIO()\n",
    "\n",
    "# add message to the dummy file\n",
    "print('Hello Geeks!!', file=dummy_file.py)\n",
    "\n",
    "# get the value from dummy file\n",
    "dummy_file.py.getvalue()\n"
   ]
  },
  {
   "cell_type": "code",
   "execution_count": 56,
   "id": "6aa05402",
   "metadata": {},
   "outputs": [
    {
     "name": "stdout",
     "output_type": "stream",
     "text": [
      "[1, 2, 3]\n"
     ]
    }
   ],
   "source": [
    "a=[1,2,3]\n",
    "\n",
    "print(a)"
   ]
  },
  {
   "cell_type": "code",
   "execution_count": 57,
   "id": "9e762fba",
   "metadata": {},
   "outputs": [],
   "source": [
    "import antigravity"
   ]
  },
  {
   "cell_type": "code",
   "execution_count": 4,
   "id": "350e21c3",
   "metadata": {},
   "outputs": [
    {
     "name": "stdout",
     "output_type": "stream",
     "text": [
      "hii I am Rahul Verma. I am your instructor ML\n"
     ]
    }
   ],
   "source": [
    "import colorama\n",
    "from colorama import Fore,Back,Style\n",
    "colorama.init(autoreset=True)\n",
    "print(Fore.BLUE+Back.YELLOW+'hii I am Rahul Verma. '+Fore.BLUE+Back.YELLOW+\"I am your instructor ML\")"
   ]
  },
  {
   "cell_type": "markdown",
   "id": "bf83921b",
   "metadata": {},
   "source": [
    "# Naive Baye"
   ]
  },
  {
   "cell_type": "code",
   "execution_count": 12,
   "id": "f4b358d2",
   "metadata": {},
   "outputs": [
    {
     "name": "stdout",
     "output_type": "stream",
     "text": [
      "Number of mislabeled points out of a total 75 points : 4\n"
     ]
    }
   ],
   "source": [
    "#  Gaussian Naive Bayes\n",
    "\n",
    "from sklearn.datasets import load_iris\n",
    "from sklearn.model_selection import train_test_split\n",
    "from sklearn.naive_bayes import GaussianNB\n",
    "\n",
    "\n",
    "X,y = load_iris(return_X_y=True)\n",
    "X_train, X_test, y_train, y_test = train_test_split(X, y, test_size=0.5, random_state=0)\n",
    "gnb= GaussianNB()\n",
    "y_pred=gnb.fit(X_train,y_train).predict(X_test)\n",
    "print(\"Number of mislabeled points out of a total %d points : %d\"% (X_test.shape[0], (y_test != y_pred).sum()))"
   ]
  },
  {
   "cell_type": "markdown",
   "id": "f9f5fd37",
   "metadata": {},
   "source": [
    "# Threading VS Multiprocessing"
   ]
  },
  {
   "cell_type": "markdown",
   "id": "0a1d14dd",
   "metadata": {},
   "source": [
    "## Process: An instance of a program (e.g a Python interpreter)\n",
    "\n",
    "1 + take advtg. of multiple CPU and cores\n",
    "\n",
    "2 + Seprate memory space -> Memory is not shared b/w process\n",
    "\n",
    "3 + Great for CPU-bound procesing\n",
    "\n",
    "4 + New process is started independently from other process\n",
    "\n",
    "5 + Process are interruptable/killable\n",
    "\n",
    "6 + One Gil for each process -> avoids GIL limition\n",
    "\n",
    "1- Heavyweight\n",
    "\n",
    "2 - starting a process is slower then starting a thread\n",
    "\n",
    "3 - more memory\n",
    "\n",
    "4 - IPC (inter- process communication) is more complicated"
   ]
  },
  {
   "cell_type": "markdown",
   "id": "81eb0248",
   "metadata": {},
   "source": [
    "## Treads: An entity within a process that can be scheduled(also knowna as 'leightweight'. \n",
    "A process can spawn multiple threads.\n",
    "\n",
    "1 + all threads within a priocess share the same memory\n",
    "\n",
    "2 + leightweight\n",
    "\n",
    "3+ starting a thread is fatser then starting a process\n",
    "\n",
    "4+ Great for I/O bound tasks\n",
    "\n",
    "1-Threading is limited by GIL: only one thread at a time\n",
    "\n",
    "2- No effected for CPU bound tasks\n",
    "\n",
    "3- Not interruptable/ kilable\n",
    "\n",
    "4- careful with race condition\n"
   ]
  },
  {
   "cell_type": "markdown",
   "id": "4fb626c4",
   "metadata": {},
   "source": [
    "## GIL(Global Interpreter Lock)\n",
    "- A loack that allows only thread at a time to executrin python\n",
    "- Needed in CPython because memory management is not thread-safe\n",
    "- Avoid:\n",
    "       - use multipleprocessing\n",
    "       - use a differnt, free-threaded python implementation (jython,IronPython)\n",
    "       - use python as a wrapper for thired-party libraries (C/C++) -. numpy,scipy"
   ]
  },
  {
   "cell_type": "code",
   "execution_count": 57,
   "id": "a8795388",
   "metadata": {},
   "outputs": [
    {
     "name": "stdout",
     "output_type": "stream",
     "text": [
      "end main\n"
     ]
    }
   ],
   "source": [
    "from multiprocessing import Process\n",
    "import os\n",
    "import time\n",
    "\n",
    "def square_numbers():\n",
    "    for i in range(100):\n",
    "        i*i\n",
    "        time.sleep(0.1)\n",
    "        \n",
    "process=[]\n",
    "num_process=os.cpu_count()\n",
    "\n",
    "# create processes\n",
    "for i  in range(num_process):\n",
    "    p= Process(target=square_numbers)\n",
    "    process.append(p)\n",
    "    \n",
    "#start \n",
    "for p in process:\n",
    "    p.start()\n",
    "    \n",
    "#join\n",
    "for i in process:\n",
    "    i.join()\n",
    "    \n",
    "print('end main')"
   ]
  },
  {
   "cell_type": "code",
   "execution_count": null,
   "id": "d50fa4c1",
   "metadata": {},
   "outputs": [],
   "source": []
  }
 ],
 "metadata": {
  "kernelspec": {
   "display_name": "Python 3 (ipykernel)",
   "language": "python",
   "name": "python3"
  },
  "language_info": {
   "codemirror_mode": {
    "name": "ipython",
    "version": 3
   },
   "file_extension": ".py",
   "mimetype": "text/x-python",
   "name": "python",
   "nbconvert_exporter": "python",
   "pygments_lexer": "ipython3",
   "version": "3.9.13"
  }
 },
 "nbformat": 4,
 "nbformat_minor": 5
}
