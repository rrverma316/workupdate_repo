{
 "cells": [
  {
   "cell_type": "markdown",
   "id": "cf665222",
   "metadata": {},
   "source": [
    "# Decorators"
   ]
  },
  {
   "cell_type": "code",
   "execution_count": 2,
   "id": "c62afdbc",
   "metadata": {},
   "outputs": [],
   "source": [
    "# function and Class decorators\n",
    "\n",
    "#function decorators\n",
    "\n",
    "# @mydecorator\n",
    "# def dosome():\n",
    "#     pass"
   ]
  },
  {
   "cell_type": "code",
   "execution_count": 11,
   "id": "12fd38b6",
   "metadata": {},
   "outputs": [
    {
     "name": "stdout",
     "output_type": "stream",
     "text": [
      "Start\n",
      "Start\n",
      "Name\n",
      "End\n",
      "End\n",
      "None\n"
     ]
    }
   ],
   "source": [
    "def start_decorators(func):\n",
    "    def wrapper():\n",
    "        print('Start')\n",
    "        func()\n",
    "        print('End')\n",
    "    return wrapper\n",
    "\n",
    "@start_decorators\n",
    "def name():\n",
    "    print('Name')\n",
    "    \n",
    "\n",
    "    \n",
    "name = start_decorators(name)\n",
    "print(name())"
   ]
  },
  {
   "cell_type": "code",
   "execution_count": 19,
   "id": "951c3468",
   "metadata": {},
   "outputs": [
    {
     "name": "stdout",
     "output_type": "stream",
     "text": [
      "Start\n",
      "End\n",
      "7\n"
     ]
    }
   ],
   "source": [
    "import functools\n",
    "\n",
    "def my_dec(func):\n",
    "    \n",
    "    @functools.wraps(func)\n",
    "    def wrapper(*args, **kwargs):\n",
    "        print('Start')\n",
    "        result = func(*args, **kwargs)\n",
    "        print('End')\n",
    "        return result\n",
    "    return wrapper\n",
    "\n",
    "@my_dec\n",
    "def add(x):\n",
    "    return x+5\n",
    "\n",
    "\n",
    "print(add(2))\n"
   ]
  },
  {
   "cell_type": "code",
   "execution_count": 29,
   "id": "9cd1190e",
   "metadata": {},
   "outputs": [
    {
     "name": "stdout",
     "output_type": "stream",
     "text": [
      "Hell Rahul\n",
      "Hell Rahul\n",
      "Hell Rahul\n"
     ]
    }
   ],
   "source": [
    "# Decorators with Arguments\n",
    "def repeat(num_times):\n",
    "    def decorator(func):\n",
    "        \n",
    "        @functools.wraps(func)\n",
    "        def wrapper(*args,**kwargs):\n",
    "            for _ in range(num_times):\n",
    "                result = func(*args,**kwargs)\n",
    "            return result\n",
    "        return wrapper\n",
    "    return decorator\n",
    "\n",
    "@repeat(num_times=3)\n",
    "def greet(name):\n",
    "    return print(f'Hell {name}')\n",
    "    \n",
    "greet('Rahul')"
   ]
  },
  {
   "cell_type": "code",
   "execution_count": 39,
   "id": "60836254",
   "metadata": {},
   "outputs": [],
   "source": [
    "#class Decorators\n",
    "class CountCalls:\n",
    "    def __init__(self, func):\n",
    "        self.func=func\n",
    "        self.num_calls=0\n",
    "    def __call__(self, *args, **kwargs):\n",
    "        self.num_calls +=1\n",
    "        print(f'This is Executed {self.num_calls} times')\n",
    "        return self.func(*args,**kwargs)\n",
    "\n",
    "@CountCalls\n",
    "def say():\n",
    "    print('Hello')"
   ]
  },
  {
   "cell_type": "code",
   "execution_count": 40,
   "id": "76444759",
   "metadata": {},
   "outputs": [
    {
     "name": "stdout",
     "output_type": "stream",
     "text": [
      "This is Executed 1 times\n",
      "Hello\n"
     ]
    }
   ],
   "source": [
    "say()"
   ]
  },
  {
   "cell_type": "code",
   "execution_count": 41,
   "id": "6d4b336d",
   "metadata": {},
   "outputs": [
    {
     "name": "stdout",
     "output_type": "stream",
     "text": [
      "This is Executed 2 times\n",
      "Hello\n"
     ]
    }
   ],
   "source": [
    "say()"
   ]
  },
  {
   "cell_type": "markdown",
   "id": "1aaedd45",
   "metadata": {},
   "source": [
    "# Generators"
   ]
  },
  {
   "cell_type": "code",
   "execution_count": 42,
   "id": "f20f23ea",
   "metadata": {},
   "outputs": [],
   "source": [
    "def mygenerators():\n",
    "    yield 1\n",
    "    yield 2\n",
    "    yield 5"
   ]
  },
  {
   "cell_type": "code",
   "execution_count": 55,
   "id": "89b869be",
   "metadata": {},
   "outputs": [],
   "source": [
    "g = mygenerators()"
   ]
  },
  {
   "cell_type": "code",
   "execution_count": 56,
   "id": "52218736",
   "metadata": {},
   "outputs": [
    {
     "name": "stdout",
     "output_type": "stream",
     "text": [
      "1\n"
     ]
    }
   ],
   "source": [
    "# iterate vaules\n",
    "print(next(g))"
   ]
  },
  {
   "cell_type": "code",
   "execution_count": 58,
   "id": "e87e4c9d",
   "metadata": {},
   "outputs": [],
   "source": [
    "import sys"
   ]
  },
  {
   "cell_type": "code",
   "execution_count": 59,
   "id": "8808c9ae",
   "metadata": {},
   "outputs": [],
   "source": [
    "def first(n):\n",
    "    nums=[]\n",
    "    num=0\n",
    "    while num<n:\n",
    "        nums.append(num)\n",
    "        num+=1\n",
    "    return nums\n",
    "\n",
    "def first_generator(n):\n",
    "    num=0\n",
    "    while num < n:\n",
    "        yield num\n",
    "        num +=1\n",
    "        \n",
    "        "
   ]
  },
  {
   "cell_type": "code",
   "execution_count": 62,
   "id": "07b20640",
   "metadata": {},
   "outputs": [
    {
     "name": "stdout",
     "output_type": "stream",
     "text": [
      "8448728\n",
      "112\n"
     ]
    }
   ],
   "source": [
    "print(sys.getsizeof(first(1000000)))\n",
    "print(sys.getsizeof(first_generator(1000000)))"
   ]
  },
  {
   "cell_type": "code",
   "execution_count": 63,
   "id": "4d7e143a",
   "metadata": {},
   "outputs": [],
   "source": [
    "def fibonacci(n):\n",
    "    a,b = 0,1\n",
    "    while a<n:\n",
    "        yield a\n",
    "        a,b=b,a+b"
   ]
  },
  {
   "cell_type": "code",
   "execution_count": 67,
   "id": "f335b5b6",
   "metadata": {},
   "outputs": [
    {
     "name": "stdout",
     "output_type": "stream",
     "text": [
      "0\n",
      "1\n",
      "1\n",
      "2\n",
      "3\n",
      "5\n",
      "8\n",
      "13\n",
      "21\n"
     ]
    }
   ],
   "source": [
    "fib= fibonacci(30)\n",
    "\n",
    "for i in fib:\n",
    "    print(i)"
   ]
  },
  {
   "cell_type": "markdown",
   "id": "073c5463",
   "metadata": {},
   "source": [
    "# Projects"
   ]
  },
  {
   "cell_type": "code",
   "execution_count": 84,
   "id": "48dc740e",
   "metadata": {},
   "outputs": [
    {
     "name": "stdout",
     "output_type": "stream",
     "text": [
      "74\n"
     ]
    }
   ],
   "source": [
    "import random\n",
    "length = int(input(\"  enter the Size of password\"))\n",
    "choose=\"abcdefghijklmnopqrstuvwxyz01234567890ABCDEFGHIJKLMNOPQRSTUVWXYZ!@#$%^&*()?\"\n",
    "p = \"\".join(random.sample(choose,length ))\n",
    "print(p)"
   ]
  },
  {
   "cell_type": "code",
   "execution_count": 1,
   "id": "747030de",
   "metadata": {},
   "outputs": [],
   "source": [
    "import pyqrcode\n",
    "\n",
    "from pyqrcode import QRCode\n",
    "\n",
    "s='https://github.com/rrverma316/workupdate_repo'\n",
    "\n",
    "url = pyqrcode.create(s)"
   ]
  },
  {
   "cell_type": "code",
   "execution_count": 2,
   "id": "b169fecc",
   "metadata": {},
   "outputs": [],
   "source": [
    "url.svg('GitRepo.svg', scale=8)"
   ]
  },
  {
   "cell_type": "code",
   "execution_count": 7,
   "id": "e8bd6f51",
   "metadata": {},
   "outputs": [
    {
     "name": "stdout",
     "output_type": "stream",
     "text": [
      "<_io.TextIOWrapper name='GitRepo.svg' mode='r' encoding='cp1252'>\n"
     ]
    }
   ],
   "source": [
    "with open('GitRepo.svg','r') as file:\n",
    "     print(file)"
   ]
  },
  {
   "cell_type": "code",
   "execution_count": null,
   "id": "6a6ab36c",
   "metadata": {},
   "outputs": [],
   "source": []
  }
 ],
 "metadata": {
  "kernelspec": {
   "display_name": "Python 3 (ipykernel)",
   "language": "python",
   "name": "python3"
  },
  "language_info": {
   "codemirror_mode": {
    "name": "ipython",
    "version": 3
   },
   "file_extension": ".py",
   "mimetype": "text/x-python",
   "name": "python",
   "nbconvert_exporter": "python",
   "pygments_lexer": "ipython3",
   "version": "3.9.13"
  }
 },
 "nbformat": 4,
 "nbformat_minor": 5
}
